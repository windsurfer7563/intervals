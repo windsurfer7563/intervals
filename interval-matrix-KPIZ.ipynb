{
 "cells": [
  {
   "cell_type": "markdown",
   "metadata": {},
   "source": [
    "<h3 style=\"text-align: center;\">КПІЗ<br>\n",
    "з дисципліни «Інтервальні обчислення та інтервальний аналіз»<br>\n",
    "\n",
    "<h3 style=\"text-align: center;\">Виконав Іваськів І.С.</h3>\n",
    "\n",
    " \n",
    "\n",
    "                                                           \n"
   ]
  },
  {
   "cell_type": "code",
   "execution_count": 56,
   "metadata": {
    "collapsed": false
   },
   "outputs": [],
   "source": [
    "import math\n",
    "class Interval():\n",
    "    \n",
    "    def __init__(self,start,end):\n",
    "        if start > end:\n",
    "            raise ValueError(\"Start (%s) must not be greater then end (%s)\" % (start,end))\n",
    "        self._start = start\n",
    "        self._end = end\n",
    "        \n",
    "    def __repr__(self):\n",
    "        return \"interval(%.6f, %.6f)\" % (self.start, self.end)\n",
    "\n",
    "    def __str__(self):\n",
    "        return \"[%.6f, %.6f]\" % (self.start, self.end)\n",
    "    \n",
    "    \n",
    "    @property\n",
    "    def start(self):\n",
    "        return self._start\n",
    "    @property\n",
    "    def end(self):\n",
    "        return self._end\n",
    "        \n",
    "    #метод для додавання інтервалів   \n",
    "    def __add__(self,other):\n",
    "        if isinstance(other,Interval): # визначаємо чи додаємо інтервал чи число\n",
    "            return Interval(self.start + other.start, self.end + other.end)\n",
    "        else:\n",
    "            start = other + self.start\n",
    "            end = other + self.end\n",
    "            return Interval(start,end)\n",
    "    \n",
    "    def __radd__(self, other):\n",
    "        if isinstance(other, (int, float)):\n",
    "            start = other + self.start\n",
    "            end = other + self.end\n",
    "            return Interval(start, end)\n",
    "        elif isinstance(other, Interval):\n",
    "            return other.__add__(self)\n",
    "        else:\n",
    "            return NotImplemented   \n",
    "    \n",
    "    #метод для віднімання інтервалів\n",
    "    def __sub__(self,other):\n",
    "        if isinstance(other,Interval): # визначаємо чи віднімаємо інтервал чи число\n",
    "        \n",
    "            ''' if (math.abs(self.start-other.start)<0.00001 and (math.abs(self.end-other.end)<0.00001)\n",
    "                    return Interval(0,0)\n",
    "                else:\n",
    "                return Interval(self.start - other.end,self.end - other.start)\n",
    "            '''\n",
    "            return Interval(self.start - other.end,self.end - other.start)\n",
    "        else:\n",
    "            return self-Interval(other,other) \n",
    "    \n",
    "    def __rsub__(self, other):\n",
    "        if isinstance(other, (int, float)):\n",
    "            start = other - self.end\n",
    "            end = other - self.start\n",
    "            return Interval(start, end)\n",
    "        elif isinstance(other, Interval):\n",
    "            return other.__sub__(self)\n",
    "        else:\n",
    "            return NotImplemented\n",
    "        \n",
    "    def __neg__(self):\n",
    "        return Interval(-self.end, -self.start)\n",
    "        \n",
    "        \n",
    "        \n",
    "    # метод для множення інтервалів\n",
    "    def __mul__(self,other):\n",
    "        if isinstance(other,Interval): # визначаємо чи множимо на інтервал чи на число\n",
    "            arr=[self.start*other.start,self.start*other.end,self.end*other.start,self.end*other.end]\n",
    "            return Interval(round(min(arr),10),round(max(arr),10))    \n",
    "            \n",
    "        else:\n",
    "            if other<0:\n",
    "                return Interval(round(self.end * other,10),round(self.start * other,10))\n",
    "            else:\n",
    "                return Interval(round(self.start * other,10), round(self.end * other,10))\n",
    "    \n",
    "    def __rmul__(self, other):\n",
    "        if isinstance(other, (int, float)):\n",
    "            other = Interval(other,other)\n",
    "            return other.__mul__(self)\n",
    "        elif isinstance(other, Interval):\n",
    "            return other.__mul__(self)\n",
    "        else:\n",
    "            return NotImplemented\n",
    "    \n",
    "    # метод для ділення інтервалів\n",
    "    def __truediv__(self,other):\n",
    "        if isinstance(other,Interval): # визначаємо чи ділимо на інтервал чи на число\n",
    "            arr=[1/other.end,1/other.start]\n",
    "            return self * Interval(min(arr),max(arr))                \n",
    "        else:\n",
    "            if other<0:\n",
    "                return Interval(round(self.end / other,10), round(self.start / other,10))\n",
    "            else:\n",
    "                return Interval(round(self.start / other,10), round(self.end / other,10))\n",
    "    \n",
    "    def __rdiv__(self, other):\n",
    "        if isinstance(other, (int, float)):\n",
    "            other = Interval(other,other)\n",
    "            return other.__truediv__(self)\n",
    "        elif isinstance(other, Interval):\n",
    "            return other.__truediv__(self)\n",
    "        else:\n",
    "            return NotImplemented\n",
    "    \n",
    "    __div__ = __truediv__\n",
    "    __rtruediv__ = __rdiv__\n",
    "    \n",
    "    \n",
    "    # обчислення об'єднання інтервалів\n",
    "    \n",
    "    def __and__(self,other):\n",
    "        if isinstance(other, Interval):\n",
    "            if self.end < other.start or other.end < self.start:\n",
    "                return 0\n",
    "            else:\n",
    "                return Interval(max(self.start,other.start),min(self.end,other.end))\n",
    "        elif isinstance(other, (int, float)):\n",
    "            if Interval(other,other) in self:\n",
    "                return Interval(other,other)\n",
    "            else:\n",
    "                return 0\n",
    "        \n",
    "        else: return NotImplemented\n",
    "    \n",
    "        \n",
    "    \n",
    "    #Обчислення середини інтервала\n",
    "    def mid(i):\n",
    "        return 1/2*(i.start+i.end)\n",
    "    \n",
    "    #Обчислення радіуса інтервала\n",
    "    def rad(i):\n",
    "        return 1/2*(i.end-i.start)\n",
    "   \n",
    "    # обчислення ширини інтервалу\n",
    "    def d(self):\n",
    "        return self.end - self.start\n",
    "    \n",
    "    #Операції порівняння\n",
    "    def __eq__(self, other):\n",
    "        if isinstance(other, (int, float)):\n",
    "            if self.start == other and self.end == other:\n",
    "                return True\n",
    "            if other in self:\n",
    "                return None\n",
    "            else:\n",
    "                return False\n",
    "\n",
    "        if isinstance(other, Interval):\n",
    "            if self.start == other.start and self.end == other.end:\n",
    "                return True\n",
    "            else:\n",
    "                return False\n",
    "        else:\n",
    "            return NotImplemented\n",
    "\n",
    "    def __ne__(self, other):\n",
    "        if isinstance(other, (int, float)):\n",
    "            if self.start == other and self.end == other:\n",
    "                return False\n",
    "            else:\n",
    "                return True\n",
    "\n",
    "        if isinstance(other, Interval):\n",
    "            if self.start == other.start and self.end == other.end:\n",
    "                return False\n",
    "            else:\n",
    "                return True\n",
    "    \n",
    "    \n",
    "    def __contains__(self, other):\n",
    "        if isinstance(other, (int, float)):\n",
    "            return self.start <= other and self.end >= other\n",
    "        else:\n",
    "            return self.start <= other.start and other.end <= self.end"
   ]
  },
  {
   "cell_type": "code",
   "execution_count": 2,
   "metadata": {
    "collapsed": false
   },
   "outputs": [],
   "source": [
    "%matplotlib inline\n",
    "import math\n",
    "import numpy as np\n",
    "import matplotlib.pyplot as plt\n"
   ]
  },
  {
   "cell_type": "markdown",
   "metadata": {},
   "source": [
    "## Обчислення функції та її похідної ##"
   ]
  },
  {
   "cell_type": "code",
   "execution_count": 3,
   "metadata": {
    "collapsed": true
   },
   "outputs": [],
   "source": [
    "\n",
    "def fxl(x):\n",
    "    return math.log(math.pow(x,math.sin(2*x)))\n"
   ]
  },
  {
   "cell_type": "code",
   "execution_count": 49,
   "metadata": {
    "collapsed": false
   },
   "outputs": [],
   "source": [
    "def dfxl(x):\n",
    "    return 1/(math.pow(x,math.sin(2*x)*math.log(2)))*(math.exp(math.sin(2*x)*math.log(x)))*(2*math.cos(2*x)*math.log(x)+math.sin(2*x)*(1/x))"
   ]
  },
  {
   "cell_type": "code",
   "execution_count": 5,
   "metadata": {
    "collapsed": true
   },
   "outputs": [],
   "source": [
    "#Тестова функція та її похідна:\n",
    "def fxt(x):\n",
    "    return -2*math.pow(x,2)+2\n",
    "\n",
    "def dfxt(x):\n",
    "    return -4*x"
   ]
  },
  {
   "cell_type": "markdown",
   "metadata": {},
   "source": [
    "## Будуємо графік функції##"
   ]
  },
  {
   "cell_type": "code",
   "execution_count": 6,
   "metadata": {
    "collapsed": false
   },
   "outputs": [],
   "source": [
    "x=np.arange(0,5,0.1)\n"
   ]
  },
  {
   "cell_type": "code",
   "execution_count": 8,
   "metadata": {
    "collapsed": false
   },
   "outputs": [
    {
     "data": {
      "image/png": "[encoded data removed]",
      "text/plain": [
       "<matplotlib.figure.Figure at 0x70ac860>"
      ]
     },
     "metadata": {},
     "output_type": "display_data"
    }
   ],
   "source": [
    "y=[fxl(k) for k in x]\n",
    "plt.plot(x,y)\n",
    "plt.axvline(x=2.6,color='g')\n",
    "plt.axvline(x=4,color='g')\n",
    "plt.text(2.6,-1.14,'2.6')\n",
    "plt.show()"
   ]
  },
  {
   "cell_type": "code",
   "execution_count": 16,
   "metadata": {
    "collapsed": false
   },
   "outputs": [],
   "source": [
    "# Задаємо точність обчислень\n",
    "eps=10**-6\n",
    "# Початковий інтервал для тестової функції\n",
    "X0=Interval(-2,-0.5)  "
   ]
  },
  {
   "cell_type": "code",
   "execution_count": 38,
   "metadata": {
    "collapsed": false
   },
   "outputs": [],
   "source": [
    "# Функція обчислення за методом Ньютона\n",
    "# параметри - фунція, її похідна, початковий інтервал, точність, номер ітерації:\n",
    "def Newton(fx,dfx,X0,eps,iterNo):\n",
    "    print('\\n\\n')\n",
    "    print(\"Ітерація: %i\" % iterNo)\n",
    "    print(\"X0: %s\" % X0)\n",
    "    \n",
    "    #Знаходимо інтервал який складається з нижньої та верхної меж значень похідної функції у вихідному інтервалі  \n",
    "   \n",
    "    arr=[dfx(X0.start),dfx(X0.end)]\n",
    "    M=Interval(min(arr),max(arr))\n",
    "    \n",
    "    print(\"M: %s\" % M)\n",
    "    \n",
    "    #Знаходимо значення середину інтервалу X0\n",
    "    mX0=X0.mid()\n",
    "    print(\"mX0: %s\" % mX0)\n",
    "    \n",
    "    #Знаходимо значення функції в mX0\n",
    "    fmX0=fx(mX0)\n",
    "    print(\"fmX0: %s\" % fmX0)\n",
    "    \n",
    "    #Знаходимо наступне наближення X1 до розв'язку:\n",
    "    inter1 = (mX0-fmX0/M)\n",
    "    print('inter1: %s' % inter1)\n",
    "    X1 = inter1 & X0\n",
    "    print('X1: %s' % X1)\n",
    "    \n",
    "    if X1==0:\n",
    "        return \"Рішення не знайдено\"\n",
    "    \n",
    "    #перевірка\n",
    "    dx1=X1.d()\n",
    "    dx0=(1/2*(1-M.start/M.end))*X0.d()\n",
    "    \n",
    "    if dx1 <= dx0:\n",
    "        print (\"%s < %s, - умова виконується\" % (dx1,dx0))\n",
    "    else:\n",
    "        print (\"%s > %s, - умова не виконується\" % (dx1,dx0))\n",
    "        return (X1)\n",
    "    \n",
    "    if dx1 < eps:  # точність досягнута\n",
    "        return X1\n",
    "    else:\n",
    "        res=Newton(fx,dfx,X1,eps,iterNo+1)\n",
    "        \n",
    "        \n",
    "    return res"
   ]
  },
  {
   "cell_type": "markdown",
   "metadata": {},
   "source": [
    "### Запуск для тестової функції ###"
   ]
  },
  {
   "cell_type": "code",
   "execution_count": 39,
   "metadata": {
    "collapsed": false
   },
   "outputs": [
    {
     "name": "stdout",
     "output_type": "stream",
     "text": [
      "\n",
      "\n",
      "\n",
      "Ітерація: 1\n",
      "X0: [-2.0000, -0.5000]\n",
      "M: [2.0000, 8.0000]\n",
      "mX0: -1.25\n",
      "fmX0: -1.125\n",
      "inter1: [-1.1094, -0.6875]\n",
      "X1: [-1.1094, -0.6875]\n",
      "0.421875 < 0.5625, - умова виконується\n",
      "\n",
      "\n",
      "\n",
      "Ітерація: 2\n",
      "X0: [-1.1094, -0.6875]\n",
      "M: [2.7500, 4.4375]\n",
      "mX0: -0.8984375\n",
      "fmX0: 0.3856201171875\n",
      "inter1: [-1.0387, -0.9853]\n",
      "X1: [-1.0387, -0.9853]\n",
      "0.05332520000000007 < 0.08021566901408451, - умова виконується\n",
      "\n",
      "\n",
      "\n",
      "Ітерація: 3\n",
      "X0: [-1.0387, -0.9853]\n",
      "M: [3.9414, 4.1547]\n",
      "mX0: -1.0120004\n",
      "fmX0: -0.04828961920031993\n",
      "inter1: [-1.0004, -0.9997]\n",
      "X1: [-1.0004, -0.9997]\n",
      "0.0006290000000001017 < 0.0013688640853866973, - умова виконується\n",
      "\n",
      "\n",
      "\n",
      "Ітерація: 4\n",
      "X0: [-1.0004, -0.9997]\n",
      "M: [3.9990, 4.0015]\n",
      "mX0: -1.0000629\n",
      "fmX0: -0.0002516079128205284\n",
      "inter1: [-1.0000, -1.0000]\n",
      "X1: [-1.0000, -1.0000]\n",
      "0.0 < 1.9774587070846305e-07, - умова виконується\n",
      "Result:  [-1.0000, -1.0000]\n"
     ]
    }
   ],
   "source": [
    "res = Newton(fxt,dfxt,X0,eps,1)\n",
    "print('Result: ', res)"
   ]
  },
  {
   "cell_type": "markdown",
   "metadata": {},
   "source": [
    "### Запуск для функції з контрольного завдання ###\n"
   ]
  },
  {
   "cell_type": "code",
   "execution_count": 58,
   "metadata": {
    "collapsed": false
   },
   "outputs": [
    {
     "name": "stdout",
     "output_type": "stream",
     "text": [
      "\n",
      "\n",
      "\n",
      "Ітерація: 1\n",
      "X0: [2.600000, 3.600000]\n",
      "M: [0.428778, 2.430257]\n",
      "mX0: 3.1\n",
      "fmX0: -0.09400752579025001\n",
      "inter1: [3.138682, 3.319245]\n",
      "X1: [3.138682, 3.319245]\n",
      "0.1805631592000001 < 0.4117834453603324, - умова виконується\n",
      "\n",
      "\n",
      "\n",
      "Ітерація: 2\n",
      "X0: [3.138682, 3.319245]\n",
      "M: [2.281048, 2.676095]\n",
      "mX0: 3.2289637073\n",
      "fmX0: 0.20378513113108918\n",
      "inter1: [3.139625, 3.152814]\n",
      "X1: [3.139625, 3.152814]\n",
      "0.013188206900000221 < 0.01332744041784152, - умова виконується\n",
      "\n",
      "\n",
      "\n",
      "Ітерація: 3\n",
      "X0: [3.139625, 3.152814]\n",
      "M: [2.283779, 2.321412]\n",
      "mX0: 3.14621941505\n",
      "fmX0: 0.010606250914165899\n",
      "inter1: [3.141575, 3.141651]\n",
      "X1: [3.141575, 3.141651]\n",
      "7.528809999968189e-05 < 0.00010689912928055025, - умова виконується\n",
      "\n",
      "\n",
      "\n",
      "Ітерація: 4\n",
      "X0: [3.141575, 3.141651]\n",
      "M: [2.289410, 2.289627]\n",
      "mX0: 3.1416128924\n",
      "fmX0: 4.633620254730283e-05\n",
      "inter1: [3.141593, 3.141593]\n",
      "X1: [3.141593, 3.141593]\n",
      "2.000000165480742e-09 < 3.566815840227261e-09, - умова виконується\n",
      "Result:  [3.141593, 3.141593]\n"
     ]
    }
   ],
   "source": [
    "res = Newton(fxl,dfxl,Interval(2.6,3.6),eps,1)\n",
    "print('Result: ', res)"
   ]
  },
  {
   "cell_type": "code",
   "execution_count": 59,
   "metadata": {
    "collapsed": false
   },
   "outputs": [
    {
     "name": "stdout",
     "output_type": "stream",
     "text": [
      "7.930923088545766e-07\n"
     ]
    }
   ],
   "source": [
    "# Перевірка результату\n",
    "print(fxl(3.141593))"
   ]
  },
  {
   "cell_type": "code",
   "execution_count": 60,
   "metadata": {
    "collapsed": true
   },
   "outputs": [],
   "source": [
    "# отже результат з точністю 10-6 знахидить 0 функції."
   ]
  }
 ],
 "metadata": {
  "kernelspec": {
   "display_name": "Python 3",
   "language": "python",
   "name": "python3"
  },
  "language_info": {
   "codemirror_mode": {
    "name": "ipython",
    "version": 3
   },
   "file_extension": ".py",
   "mimetype": "text/x-python",
   "name": "python",
   "nbconvert_exporter": "python",
   "pygments_lexer": "ipython3",
   "version": "3.5.1"
  }
 },
 "nbformat": 4,
 "nbformat_minor": 0
}
