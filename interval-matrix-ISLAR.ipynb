{
 "cells": [
  {
   "cell_type": "markdown",
   "metadata": {},
   "source": [
    "<h3 style=\"text-align: center;\">Лабораторна робота №3<br>\n",
    "з дисципліни «Інтервальні обчислення та інтервальний аналіз»<br>\n",
    "Обчислити інтервальний вираз</h3>\n",
    "   <p style=\"text-align: center;\">((A-BxC)+(AxC-B))-(-0.5x(A+B))</p>\n",
    "<h3 style=\"text-align: center;\">Виконав Іваськів І.С.</h3>\n",
    "\n",
    " \n",
    "\n",
    "                                                           \n"
   ]
  },
  {
   "cell_type": "code",
   "execution_count": 1297,
   "metadata": {
    "collapsed": false
   },
   "outputs": [
    {
     "ename": "IndentationError",
     "evalue": "unexpected indent (<ipython-input-1297-968738f79274>, line 31)",
     "output_type": "error",
     "traceback": [
      "\u001b[1;36m  File \u001b[1;32m\"<ipython-input-1297-968738f79274>\"\u001b[1;36m, line \u001b[1;32m31\u001b[0m\n\u001b[1;33m    return Interval(round(self.start - other.end,2), round(self.end - other.start,2))\u001b[0m\n\u001b[1;37m    ^\u001b[0m\n\u001b[1;31mIndentationError\u001b[0m\u001b[1;31m:\u001b[0m unexpected indent\n"
     ]
    }
   ],
   "source": [
    "class Interval():\n",
    "    \n",
    "    def __init__(self,start,end):\n",
    "        if start > end:\n",
    "            raise ValueError(\"Start (%s) must not be greater then end (%s)\" % (start,end))\n",
    "        self._start = start\n",
    "        self._end = end\n",
    "        \n",
    "    def __str__(self):\n",
    "        return ('[%s,%s]' % (self.start, self.end))\n",
    "    \n",
    "    \n",
    "    @property\n",
    "    def start(self):\n",
    "        return self._start\n",
    "    @property\n",
    "    def end(self):\n",
    "        return self._end\n",
    "        \n",
    "    #метод для додавання інтервалів   \n",
    "    def __add__(self,other):\n",
    "        return Interval(round(self.start + other.start,2), round(self.end + other.end,2))\n",
    "    \n",
    "    #метод для віднімання інтервалів\n",
    "    def __sub__(self,other):\n",
    "        '''  if (self.start==other.start) and (self.end==other.end):\n",
    "            return Interval(0,0)\n",
    "        else:\n",
    "            return Interval(round(self.start - other.end,2), round(self.end - other.start,2))\n",
    "        '''\n",
    "         return Interval(round(self.start - other.end,2), round(self.end - other.start,2))\n",
    "        \n",
    "    # метод для множення інтервалів\n",
    "    def __mul__(self,other):\n",
    "        if type(other)==type(Interval(0,1)): # визначаємо чи множимо на інтервал чи на число\n",
    "            arr=[self.start*other.start,self.start*other.end,self.end*other.start,self.end*other.end]\n",
    "            return Interval(round(min(arr),2),round(max(arr),2))    \n",
    "        else:\n",
    "            if other<0:\n",
    "                return Interval(round(self.end * other,2),round(self.start * other,2))\n",
    "            else:\n",
    "                return Interval(round(self.start * other,2), round(self.end * other,2))\n",
    "    \n",
    "    # метод для ділення інтервалів\n",
    "    def __truediv__(self,other):\n",
    "        if type(other)==type(Interval(0,1)): # визначаємо чи множимо на інтервал чи на число\n",
    "            '''if (self.start==other.start) and (self.end==other.end):\n",
    "                return Interval(1,1)\n",
    "            else:\n",
    "                arr=[self.start/other.start,self.start/other.end,self.end/other.start,self.end/other.end]\n",
    "            return Interval(round(min(arr),2),round(max(arr),2))                \n",
    "            '''\n",
    "            arr=[self.start/other.start,self.start/other.end,self.end/other.start,self.end/other.end]\n",
    "            return Interval(round(min(arr),2),round(max(arr),2))                \n",
    "        else:\n",
    "            if other<0:\n",
    "                return Interval(round(self.end / other,2), round(self.start / other,2))\n",
    "            else:\n",
    "                return Interval(round(self.start / other,2), round(self.end / other,2))"
   ]
  },
  {
   "cell_type": "code",
   "execution_count": 1116,
   "metadata": {
    "collapsed": false
   },
   "outputs": [
    {
     "name": "stdout",
     "output_type": "stream",
     "text": [
      "i1: [10,20]\n",
      "i2: [10,20]\n",
      "сумма i1, i2: [20,40]\n",
      "i4: [2,3]\n",
      "різниця i1, i4: [7,18]\n",
      "добуток i1, i4: [20,60]\n",
      "ділення i1 на i4: [3.33,10.0]\n",
      "Множення i1 на 2: [20,40]\n",
      "[15.5,40.5]\n"
     ]
    }
   ],
   "source": [
    "# Тестуємо інтервали\n",
    "i1 = Interval(10,20)\n",
    "print('i1: %s' % i1)\n",
    "i2 = Interval(10,20)\n",
    "print('i2: %s' % i1)\n",
    "i3 = i1+i2\n",
    "print('сумма i1, i2: %s' % i3)\n",
    "i4 = Interval(2,3)\n",
    "print('i4: %s' % i4)\n",
    "i5 = i1-i4\n",
    "print('різниця i1, i4: %s' % i5)\n",
    "i6 = i1*i4\n",
    "print('добуток i1, i4: %s' % i6)\n",
    "i7= i1 / i4\n",
    "print('ділення i1 на i4: %s' % i7)\n",
    "\n",
    "i8= i1 * 2\n",
    "print('Множення i1 на 2: %s' % i8)\n",
    "\n",
    "i9= Interval(0.31,0.81)/0.02 * 1\n",
    "print(i9)"
   ]
  },
  {
   "cell_type": "code",
   "execution_count": 1117,
   "metadata": {
    "collapsed": false
   },
   "outputs": [],
   "source": [
    "import copy\n",
    "class Matrix():\n",
    "    def __init__(self,values):\n",
    "        self.nrows = len(values)\n",
    "        self.ncols = len(values[0])\n",
    "               \n",
    "        self.rows=values[:]\n",
    "              \n",
    "    \n",
    "    def __str__(self):\n",
    "        \n",
    "        s='\\n'.join(['  '.join([str(item) for item in row]) for row in self.rows])\n",
    "        return (s + '\\n')\n",
    "   \n",
    "    def __repr__(self):\n",
    "        s='\\n'.join(['  '.join([str(item) for item in row]) for row in self.rows])   \n",
    "        return (s + '\\n')\n",
    "\n",
    "\n",
    "    def __getitem__(self, idx):\n",
    "        return self.rows[idx]\n",
    "\n",
    "    \n",
    "    def getCol(self,idx):\n",
    "        if idx>self.ncols:\n",
    "              raise ValueError(\"Incorect Index\")\n",
    "        \n",
    "        ret = [[row[idx]] for row in self.rows]\n",
    "        return Matrix(ret)\n",
    "    \n",
    "\n",
    "    # повертає кількість рядків і стовпців матриці\n",
    "    def getRank(self):\n",
    "        return (self.nrows, self.ncols)\n",
    "\n",
    "    # додавання матриць\n",
    "    def __add__(self, mat):\n",
    "                \n",
    "        if self.getRank() != mat.getRank():\n",
    "            raise ValueError(\"Trying to add matrixes of varying rank!\")\n",
    "\n",
    "        ret=[]        \n",
    "        \n",
    "        for i in range(self.nrows):\n",
    "            row = [self.rows[i][j]+mat.rows[i][j] for j in range(mat.ncols)]\n",
    "            ret.append(row)\n",
    "\n",
    "        return Matrix(ret)\n",
    "    \n",
    "    # віднімання матриць\n",
    "    def __sub__(self, mat):\n",
    "                \n",
    "        if self.getRank() != mat.getRank():\n",
    "            raise ValueError(\"Trying to sub matrixes of varying rank!\")\n",
    "\n",
    "        ret=[]        \n",
    "        \n",
    "        for i in range(self.nrows):\n",
    "            row = [item[0]-item[1] for item in zip(self.rows[i], mat[i])]\n",
    "            ret.append(row)\n",
    "\n",
    "        return Matrix(ret)\n",
    "    \n",
    "    \n",
    "    #транспонування матриці. Не змінює поточну матрицю\n",
    "    def transpose(self):\n",
    "                \n",
    "        new_rows = [list(item) for item in zip(*self.rows)]\n",
    "        return Matrix(new_rows)\n",
    "   \n",
    "\n",
    "\n",
    "    #множення матриць\n",
    "    def __mul__(self, mat):\n",
    "        \n",
    "        mat_nrows, mat_ncols = mat.getRank()\n",
    "        \n",
    "        if (self.ncols != mat_nrows):\n",
    "            raise ValueError(\"Matrices cannot be multipled!\")\n",
    "        \n",
    "        #cтворюємо заповнену 0 матрицю \n",
    "        res_mat = Matrix([[0]*mat_ncols for x in range(self.nrows)])\n",
    "        \n",
    "        \n",
    "        #транспонуємо матрицю для зручності перемноження в циклі\n",
    "        mat_t=mat.transpose()\n",
    "        \n",
    "        for m in range(self.nrows):\n",
    "            for n in range(mat_ncols):\n",
    "                \n",
    "                #визначаємо чи множимо звичайні матриці чи інтервальні матриці?\n",
    "                if type(self.rows[m][self.ncols-1]) == type(Interval(0,1)):\n",
    "                    suma=Interval(0,0)\n",
    "                else:\n",
    "                    suma=0\n",
    "                                               \n",
    "                for i in range(self.ncols):\n",
    "                    suma=suma+mat_t[n][i]*self.rows[m][i]\n",
    "                res_mat[m][n] = suma\n",
    "        \n",
    "       \n",
    "        return res_mat\n",
    "     \n",
    "    #множення матриці на число\n",
    "    def mult(self,value):    \n",
    "        mat_nrows, mat_ncols = self.getRank() \n",
    "            \n",
    "        #cтворюємо заповнену 0 матрицю \n",
    "        res_mat = Matrix([[0]*mat_ncols for x in range(mat_nrows)])\n",
    "            \n",
    "        for m in range(mat_nrows):\n",
    "            for n in range(mat_ncols):\n",
    "                res_mat[m][n] = self.rows[m][n] * value\n",
    "             \n",
    "        return res_mat\n",
    "         \n",
    "    #множення рядка матриці на число\n",
    "    def row_mult(self,row,value):\n",
    "        '''\n",
    "        #по модному:)\n",
    "        T = Diag(self.nrows)\n",
    "        T[row][row] = value\n",
    "        return T * self\n",
    "        '''\n",
    "        new_rows=copy.deepcopy(self.rows)\n",
    "        #звичайним методом\n",
    "        new_rows[row] = [r * value for r in self[row]]\n",
    "        return Matrix(new_rows)\n",
    "        \n",
    "    #додавання до i-го рядка j-го рядка помноженого на value\n",
    "    def row_i_plus_j(self,i,j,value):\n",
    "        \n",
    "        new_rows=copy.deepcopy(self.rows)\n",
    "        \n",
    "        for k in range(self.ncols):\n",
    "            arg=new_rows[j][k]\n",
    "            arg2=new_rows[i][k]\n",
    "            if type(arg)==type(Interval(0,1)) or type(arg2)==type(Interval(0,1)) or type(value)==type(Interval(0,1)):\n",
    "                if  type(arg) != type(Interval(0,1)):\n",
    "                    arg=Interval(arg,arg)\n",
    "                if  type(arg2) != type(Interval(0,1)):\n",
    "                    arg2=Interval(arg2,arg2)\n",
    "                                   \n",
    "            new_rows[i][k]=arg2+arg * value\n",
    "        return Matrix(new_rows)\n",
    "        \n",
    "    \n",
    "    def row_i_minus_j(self,i,j,value):\n",
    "        \n",
    "        new_rows=copy.deepcopy(self.rows)\n",
    "        \n",
    "        for k in range(self.ncols):\n",
    "            arg=new_rows[j][k]\n",
    "            arg2=new_rows[i][k]\n",
    "            if type(arg)==type(Interval(0,1)) or type(arg2)==type(Interval(0,1)) or type(value)==type(Interval(0,1)):\n",
    "                if  type(arg) != type(Interval(0,1)):\n",
    "                    arg=Interval(arg,arg)\n",
    "                if  type(arg2) != type(Interval(0,1)):\n",
    "                    arg2=Interval(arg2,arg2)\n",
    "                                   \n",
    "            new_rows[i][k]=arg2-arg * value\n",
    "        return Matrix(new_rows)\n",
    "    \n",
    "    \n",
    "    #розширення на інтервал\n",
    "    def expand(self,value):\n",
    "        new_rows = copy.deepcopy(self.rows)\n",
    "        for i in range(self.nrows):\n",
    "            for j in range(self.ncols):\n",
    "                a=new_rows[i][j]\n",
    "                if a != 1 and a != 0:\n",
    "                    new_rows[i][j]=Interval(round(a-abs(a)*value,2), round(a+abs(a)*value,2))\n",
    "        return Matrix(new_rows)\n",
    "        \n",
    "    \n",
    "    \n",
    "    "
   ]
  },
  {
   "cell_type": "code",
   "execution_count": 1118,
   "metadata": {
    "collapsed": false
   },
   "outputs": [],
   "source": [
    "#Одинична матриця, параметер - розмір матриці\n",
    "class Diag(Matrix):\n",
    "     def __init__(self,size):\n",
    "            rows_temp=[[0]*size for _dummy in range(size)]\n",
    "            for i in range(size):\n",
    "                rows_temp[i][i]=1\n",
    "            Matrix.__init__(Diag,rows_temp)\n",
    "       "
   ]
  },
  {
   "cell_type": "code",
   "execution_count": 1278,
   "metadata": {
    "collapsed": false
   },
   "outputs": [],
   "source": [
    "def Gaus2(A):\n",
    "    M=copy.deepcopy(A)\n",
    "    nrows,ncols=M.getRank()\n",
    "    x=[0]*(ncols-1)\n",
    "    for R in range(nrows-1):\n",
    "        for r in range(R+1,nrows):\n",
    "            l=M[r][R]/M[R][R]\n",
    "            for i in range(R, ncols):\n",
    "                if type(l)==type(Interval(0,1)) and type(M[r][i])!=type(Interval(0,1)):\n",
    "                     M[r][i]=Interval(M[r][i],M[r][i])\n",
    "                                                                                         \n",
    "                M[r][i]=M[r][i] - l*M[R][i]\n",
    "            \n",
    "            print(\"Stage: \" + str(R+r))\n",
    "            #print('R: %s r: %s' % (R,r))\n",
    "            print(M)\n",
    "            \n",
    "      \n",
    "    x[ncols-2]=M[nrows-1][ncols-1]/M[nrows-1][ncols-2]\n",
    "    for n in reversed(range(0,nrows-1)):\n",
    "        if type(M[n][ncols-1])==type(Interval(0,1)):\n",
    "            sum1=Interval(0,0)\n",
    "        else:\n",
    "            sum1=0\n",
    "            \n",
    "        for j in range(n+1,ncols-1):\n",
    "            sum1 = sum1 +x[j] * M[n][j]\n",
    "        \n",
    "        val=(M[n][ncols-1]-sum1)/M[n][n]\n",
    "        x[n]=val\n",
    "    \n",
    "            \n",
    "    return(Matrix([[xi] for xi in x]))"
   ]
  },
  {
   "cell_type": "markdown",
   "metadata": {},
   "source": [
    "## Розв’язати ІСЛАР методом Гауса:##\n",
    "\n",
    "x1 - 8.9x2 + x3 = 7.5<br>\n",
    "-1.4x + x2 + 5.7x = 3.9<br>\n",
    "0.9x - 2.4x2 + x3 = 2<br>\n",
    "\n",
    "+- 3%\n",
    "\n"
   ]
  },
  {
   "cell_type": "markdown",
   "metadata": {},
   "source": [
    "### Для початку протестуємо алгоритм на системі звичайних нелінійних рівнянь: ###"
   ]
  },
  {
   "cell_type": "code",
   "execution_count": 1241,
   "metadata": {
    "collapsed": false
   },
   "outputs": [
    {
     "name": "stdout",
     "output_type": "stream",
     "text": [
      "1  -8.9  1  7.5\n",
      "-1.4  1  5.7  3.9\n",
      "0.9  -2.4  1  2\n",
      "\n"
     ]
    }
   ],
   "source": [
    "A=Matrix([[1, -8.9, 1, 7.5],[-1.4, 1, 5.7, 3.9],[0.9, -2.4, 1,2]])\n",
    "print(A)\n"
   ]
  },
  {
   "cell_type": "code",
   "execution_count": 1264,
   "metadata": {
    "collapsed": false
   },
   "outputs": [
    {
     "name": "stdout",
     "output_type": "stream",
     "text": [
      "Stage: 1\n",
      "1  -8.9  1  7.5\n",
      "0.0  -11.459999999999999  7.1  14.4\n",
      "0.9  -2.4  1  2\n",
      "\n",
      "Stage: 2\n",
      "1  -8.9  1  7.5\n",
      "0.0  -11.459999999999999  7.1  14.4\n",
      "0.0  5.609999999999999  0.09999999999999998  -4.75\n",
      "\n",
      "Stage: 3\n",
      "1  -8.9  1  7.5\n",
      "0.0  -11.459999999999999  7.1  14.4\n",
      "0.0  0.0  3.57565445026178  2.2992146596858642\n",
      "\n"
     ]
    }
   ],
   "source": [
    "x=Gaus2(A)"
   ]
  },
  {
   "cell_type": "code",
   "execution_count": 1266,
   "metadata": {
    "collapsed": false
   },
   "outputs": [
    {
     "name": "stdout",
     "output_type": "stream",
     "text": [
      "Results:\n",
      "-0.7806818459135627\n",
      "-0.858164336090978\n",
      "0.6430192547038583\n",
      "\n"
     ]
    }
   ],
   "source": [
    "print(\"Results:\")\n",
    "print(x)"
   ]
  },
  {
   "cell_type": "code",
   "execution_count": 1248,
   "metadata": {
    "collapsed": false
   },
   "outputs": [
    {
     "name": "stdout",
     "output_type": "stream",
     "text": [
      "7.5\n",
      "3.900000000000002\n",
      "1.9999999999999991\n",
      "\n"
     ]
    }
   ],
   "source": [
    "#Перевіриво перемноживши матрицю на вектор результатів x:\n",
    "AR=Matrix([[1, -8.9, 1],[-1.4, 1, 5.7],[0.9, -2.4, 1]])\n",
    "print(AR*x)"
   ]
  },
  {
   "cell_type": "markdown",
   "metadata": {},
   "source": [
    "**Отже, бачимо що рішення вірне **"
   ]
  },
  {
   "cell_type": "markdown",
   "metadata": {},
   "source": [
    "### Перетворимо вихідну матрицю на інтервальну: ### "
   ]
  },
  {
   "cell_type": "code",
   "execution_count": 1279,
   "metadata": {
    "collapsed": false,
    "scrolled": true
   },
   "outputs": [
    {
     "name": "stdout",
     "output_type": "stream",
     "text": [
      "Вихідна матриця:\n",
      "1  -8.9  1  7.5\n",
      "-1.4  1  5.7  3.9\n",
      "0.9  -2.4  1  2\n",
      "\n",
      "Інтервальна матриця:\n",
      "1  [-9.17,-8.63]  1  [7.28,7.72]\n",
      "[-1.44,-1.36]  1  [5.53,5.87]  [3.78,4.02]\n",
      "[0.87,0.93]  [-2.47,-2.33]  1  [1.94,2.06]\n",
      "\n"
     ]
    }
   ],
   "source": [
    "#Вихідна матриця:\n",
    "A=Matrix([[1, -8.9, 1, 7.5],[-1.4, 1, 5.7, 3.9],[0.9, -2.4, 1,2]])\n",
    "print(\"Вихідна матриця:\")\n",
    "print(A)\n",
    "B=A.expand(0.03)\n",
    "print(\"Інтервальна матриця:\")\n",
    "print(B)"
   ]
  },
  {
   "cell_type": "code",
   "execution_count": 1284,
   "metadata": {
    "collapsed": false
   },
   "outputs": [
    {
     "name": "stdout",
     "output_type": "stream",
     "text": [
      "Stage: 1\n",
      "1  [-9.17,-8.63]  1  [7.28,7.72]\n",
      "[0,0]  [-12.2,-10.74]  [6.89,7.31]  [13.68,15.14]\n",
      "[0.87,0.93]  [-2.47,-2.33]  1  [1.94,2.06]\n",
      "\n",
      "Stage: 2\n",
      "1  [-9.17,-8.63]  1  [7.28,7.72]\n",
      "[0,0]  [-12.2,-10.74]  [6.89,7.31]  [13.68,15.14]\n",
      "[0,0]  [5.04,6.2]  [0.07,0.13]  [-5.24,-4.27]\n",
      "\n",
      "Stage: 3\n",
      "1  [-9.17,-8.63]  1  [7.28,7.72]\n",
      "[0,0]  [-12.2,-10.74]  [6.89,7.31]  [13.68,15.14]\n",
      "[0,0]  [-2.04,1.8]  [2.89,4.37]  [0.37,4.51]\n",
      "\n"
     ]
    }
   ],
   "source": [
    "x=Gaus2(B)"
   ]
  },
  {
   "cell_type": "code",
   "execution_count": 1285,
   "metadata": {
    "collapsed": false
   },
   "outputs": [
    {
     "name": "stdout",
     "output_type": "stream",
     "text": [
      "Results:\n",
      "[-6.75,6.0]\n",
      "[-1.36,-0.19]\n",
      "[0.08,1.56]\n",
      "\n"
     ]
    }
   ],
   "source": [
    "print(\"Results:\")\n",
    "print(x)"
   ]
  },
  {
   "cell_type": "markdown",
   "metadata": {},
   "source": [
    "## Розв'язок методом LU розкладу\n",
    "#### Опишемо функцію LU розкладу: ####"
   ]
  },
  {
   "cell_type": "code",
   "execution_count": 1229,
   "metadata": {
    "collapsed": false
   },
   "outputs": [],
   "source": [
    "def LU(A):\n",
    "    nrows,ncols=A.getRank()\n",
    "    n=ncols\n",
    "    L=[[Interval(0,0)]*n for _dummy in range(n)]\n",
    "    U=[[Interval(0,0)]*n for _dummy in range(n)]\n",
    "    \n",
    "    \n",
    "    for i in range(n):\n",
    "        for j in range(n):\n",
    "            U[0][i]=A[0][i]\n",
    "            L[i][0]=A[i][0]/U[0][0]\n",
    "            \n",
    "            sum1 = Interval(0,0)\n",
    "            for k in range(i):\n",
    "                sum1 = sum1 + L[i][k]*U[k][j]\n",
    "            \n",
    "            U[i][j] = A[i][j] - sum1\n",
    "                       \n",
    "            if i > j:\n",
    "                L[j][i]=Interval(0,0)\n",
    "            else:\n",
    "                sum1 = Interval(0,0)\n",
    "                for k in range(i):\n",
    "                    sum1 = sum1 + L[j][k] * U[k][i]\n",
    "                  \n",
    "                L[j][i]=(A[j][i]- sum1) / U[i][i]\n",
    "                   \n",
    "      \n",
    "    return (Matrix(L),Matrix(U))\n",
    "\n",
    "\n",
    "    \n",
    "    "
   ]
  },
  {
   "cell_type": "markdown",
   "metadata": {},
   "source": [
    "#### функція знаходження x з LU матриць: ####"
   ]
  },
  {
   "cell_type": "code",
   "execution_count": 1215,
   "metadata": {
    "collapsed": false
   },
   "outputs": [],
   "source": [
    "def linear(L,U,b):\n",
    "    nrows,ncols=L.getRank()\n",
    "    n=ncols\n",
    "    y=[0 * n for _dummy in range(n)]\n",
    "    x=[0 * n for _dummy in range(n)]\n",
    "    \n",
    "    y[0]=b[0]/L[0][0]\n",
    "    \n",
    "    for i in range(1,n):\n",
    "        sum1=Interval(0,0)\n",
    "            \n",
    "        for j in range(0,i):\n",
    "            sum1 = sum1 + y[j] * L[i][j]\n",
    "        \n",
    "        y[i]=(b[i]-sum1)/L[i][i]\n",
    "        \n",
    "    #відладочна інформація:\n",
    "    \n",
    "        #print(\"y:\")\n",
    "        #print(Matrix([y]))\n",
    "  \n",
    "        #print(\"L*y:\")\n",
    "        #print(L*Matrix([[y[0]],[y[1]]]))\n",
    "    \n",
    "    x[n-1]=y[n-1]\n",
    "    \n",
    "    for i in reversed(range(0,n)):\n",
    "        sum1=Interval(0,0)\n",
    "        \n",
    "        for j in range(i+1,n):\n",
    "            sum1 = sum1 + U[i][j] * x[j]\n",
    "                    \n",
    "        \n",
    "        x[i]=(y[i]-sum1)/U[i][i]\n",
    "    \n",
    "    #відладочна інформація:\n",
    "    \n",
    "        #print(\"x:\")\n",
    "        #print(Matrix([x]))\n",
    "  \n",
    "        #print(\"U*X:\")\n",
    "        #print(U*Matrix([[x[0]],[x[1]]]))\n",
    "    \n",
    "    return Matrix([[k] for k in x])"
   ]
  },
  {
   "cell_type": "markdown",
   "metadata": {},
   "source": [
    "** Перевірка роботи на відомих даних: **"
   ]
  },
  {
   "cell_type": "code",
   "execution_count": 1298,
   "metadata": {
    "collapsed": false
   },
   "outputs": [
    {
     "name": "stdout",
     "output_type": "stream",
     "text": [
      "[2,2]  [-1,0]\n",
      "[-1,0]  [2,2]\n",
      "\n",
      "L:\n",
      "[1.0,1.0]  [0,0]\n",
      "[-0.5,0.0]  [0.75,1.33]\n",
      "\n",
      "U:\n",
      "[2,2]  [-1,0]\n",
      "[0,0]  [1.5,2.0]\n",
      "\n"
     ]
    }
   ],
   "source": [
    "A = Matrix([[Interval(2,2), Interval(-1,0)],[Interval(-1,0),Interval(2,2)]])\n",
    "print(A)\n",
    "L,U=LU(A)\n",
    "print(\"L:\")\n",
    "print(L)\n",
    "print(\"U:\")\n",
    "print(U)\n",
    "\n"
   ]
  },
  {
   "cell_type": "code",
   "execution_count": 1299,
   "metadata": {
    "collapsed": false
   },
   "outputs": [
    {
     "name": "stdout",
     "output_type": "stream",
     "text": [
      "Results:\n",
      "[0.07,0.6]\n",
      "[-1.07,-0.23]\n",
      "\n"
     ]
    }
   ],
   "source": [
    "b=[Interval(1.2,1.2),Interval(-1.2,-1.2)]\n",
    "x=linear(L,U,b)\n",
    "print(\"Results:\")\n",
    "print(x)"
   ]
  },
  {
   "cell_type": "markdown",
   "metadata": {},
   "source": [
    "**Знаходими LU матриці та розв'язок ІСЛАР для ситеми з ЛР: **"
   ]
  },
  {
   "cell_type": "code",
   "execution_count": 1300,
   "metadata": {
    "collapsed": false
   },
   "outputs": [],
   "source": [
    "A=Matrix([[Interval(1,1), Interval(-9.17,-8.63), Interval(1,1)],\n",
    "          [Interval(-1.44,-1.36), Interval(1,1),Interval(5.53,5.87)],\n",
    "          [Interval(0.87,0.93),Interval(-2.47,-2.33), Interval(1,1)]])\n",
    "           \n",
    "           \n",
    "b=[Interval(7.28,7.72),Interval(3.78,4.02),Interval(1.94,2.06)]\n",
    "    \n",
    "L,U=LU(A)\n"
   ]
  },
  {
   "cell_type": "code",
   "execution_count": 1301,
   "metadata": {
    "collapsed": false
   },
   "outputs": [
    {
     "name": "stdout",
     "output_type": "stream",
     "text": [
      "Results:\n",
      "[-11.48,16.33]\n",
      "[-1.72,0.92]\n",
      "[-0.17,2.99]\n",
      "\n"
     ]
    }
   ],
   "source": [
    "x=linear(L,U,b)\n",
    "print(\"Results:\")\n",
    "print(x)\n"
   ]
  }
 ],
 "metadata": {
  "kernelspec": {
   "display_name": "Python 3",
   "language": "python",
   "name": "python3"
  },
  "language_info": {
   "codemirror_mode": {
    "name": "ipython",
    "version": 3
   },
   "file_extension": ".py",
   "mimetype": "text/x-python",
   "name": "python",
   "nbconvert_exporter": "python",
   "pygments_lexer": "ipython3",
   "version": "3.5.1"
  }
 },
 "nbformat": 4,
 "nbformat_minor": 0
}
