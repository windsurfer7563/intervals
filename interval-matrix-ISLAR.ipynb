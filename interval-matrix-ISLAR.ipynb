{
 "cells": [
  {
   "cell_type": "markdown",
   "metadata": {},
   "source": [
    "<h3 style=\"text-align: center;\">Лабораторна робота №4<br>\n",
    "з дисципліни «Інтервальні обчислення та інтервальний аналіз»<br>\n",
    "\n",
    "<h3 style=\"text-align: center;\">Виконав Іваськів І.С.</h3>\n",
    "\n",
    " \n",
    "\n",
    "                                                           \n"
   ]
  },
  {
   "cell_type": "code",
   "execution_count": 1,
   "metadata": {
    "collapsed": false
   },
   "outputs": [],
   "source": [
    "import math\n",
    "class Interval():\n",
    "    \n",
    "    def __init__(self,start,end):\n",
    "        if start > end:\n",
    "            raise ValueError(\"Start (%s) must not be greater then end (%s)\" % (start,end))\n",
    "        self._start = start\n",
    "        self._end = end\n",
    "        \n",
    "    def __repr__(self):\n",
    "        return \"interval(%.6f, %.6f)\" % (self.start, self.end)\n",
    "\n",
    "    def __str__(self):\n",
    "        return \"[%.6f, %.6f]\" % (self.start, self.end)\n",
    "    \n",
    "    \n",
    "    @property\n",
    "    def start(self):\n",
    "        return self._start\n",
    "    @property\n",
    "    def end(self):\n",
    "        return self._end\n",
    "        \n",
    "    #метод для додавання інтервалів   \n",
    "    def __add__(self,other):\n",
    "        if isinstance(other,Interval): # визначаємо чи додаємо інтервал чи число\n",
    "            return Interval(self.start + other.start, self.end + other.end)\n",
    "        else:\n",
    "            start = other + self.start\n",
    "            end = other + self.end\n",
    "            return Interval(start,end)\n",
    "    \n",
    "    def __radd__(self, other):\n",
    "        if isinstance(other, (int, float)):\n",
    "            start = other + self.start\n",
    "            end = other + self.end\n",
    "            return Interval(start, end)\n",
    "        elif isinstance(other, Interval):\n",
    "            return other.__add__(self)\n",
    "        else:\n",
    "            return NotImplemented   \n",
    "    \n",
    "    #метод для віднімання інтервалів\n",
    "    def __sub__(self,other):\n",
    "        if isinstance(other,Interval): # визначаємо чи віднімаємо інтервал чи число\n",
    "        \n",
    "            ''' if (math.abs(self.start-other.start)<0.00001 and (math.abs(self.end-other.end)<0.00001)\n",
    "                    return Interval(0,0)\n",
    "                else:\n",
    "                return Interval(self.start - other.end,self.end - other.start)\n",
    "            '''\n",
    "            return Interval(self.start - other.end,self.end - other.start)\n",
    "        else:\n",
    "            return self-Interval(other,other) \n",
    "    \n",
    "    def __rsub__(self, other):\n",
    "        if isinstance(other, (int, float)):\n",
    "            start = other - self.end\n",
    "            end = other - self.start\n",
    "            return Interval(start, end)\n",
    "        elif isinstance(other, Interval):\n",
    "            return other.__sub__(self)\n",
    "        else:\n",
    "            return NotImplemented\n",
    "        \n",
    "    def __neg__(self):\n",
    "        return Interval(-self.end, -self.start)\n",
    "        \n",
    "        \n",
    "        \n",
    "    # метод для множення інтервалів\n",
    "    def __mul__(self,other):\n",
    "        if isinstance(other,Interval): # визначаємо чи множимо на інтервал чи на число\n",
    "            arr=[self.start*other.start,self.start*other.end,self.end*other.start,self.end*other.end]\n",
    "            return Interval(round(min(arr),10),round(max(arr),10))    \n",
    "            \n",
    "        else:\n",
    "            if other<0:\n",
    "                return Interval(round(self.end * other,10),round(self.start * other,10))\n",
    "            else:\n",
    "                return Interval(round(self.start * other,10), round(self.end * other,10))\n",
    "    \n",
    "    def __rmul__(self, other):\n",
    "        if isinstance(other, (int, float)):\n",
    "            other = Interval(other,other)\n",
    "            return other.__mul__(self)\n",
    "        elif isinstance(other, Interval):\n",
    "            return other.__mul__(self)\n",
    "        else:\n",
    "            return NotImplemented\n",
    "    \n",
    "    # метод для ділення інтервалів\n",
    "    def __truediv__(self,other):\n",
    "        if isinstance(other,Interval): # визначаємо чи ділимо на інтервал чи на число\n",
    "            arr=[1/other.end,1/other.start]\n",
    "            return self * Interval(min(arr),max(arr))                \n",
    "        else:\n",
    "            if other<0:\n",
    "                return Interval(round(self.end / other,10), round(self.start / other,10))\n",
    "            else:\n",
    "                return Interval(round(self.start / other,10), round(self.end / other,10))\n",
    "    \n",
    "    def __rdiv__(self, other):\n",
    "        if isinstance(other, (int, float)):\n",
    "            other = Interval(other,other)\n",
    "            return other.__truediv__(self)\n",
    "        elif isinstance(other, Interval):\n",
    "            return other.__truediv__(self)\n",
    "        else:\n",
    "            return NotImplemented\n",
    "    \n",
    "    __div__ = __truediv__\n",
    "    __rtruediv__ = __rdiv__\n",
    "    \n",
    "    \n",
    "    # обчислення об'єднання інтервалів\n",
    "    \n",
    "    def __and__(self,other):\n",
    "        if isinstance(other, Interval):\n",
    "            if self.end < other.start or other.end < self.start:\n",
    "                return 0\n",
    "            else:\n",
    "                return Interval(max(self.start,other.start),min(self.end,other.end))\n",
    "        elif isinstance(other, (int, float)):\n",
    "            if Interval(other,other) in self:\n",
    "                return Interval(other,other)\n",
    "            else:\n",
    "                return 0\n",
    "        \n",
    "        else: return NotImplemented\n",
    "    \n",
    "        \n",
    "    \n",
    "    #Обчислення середини інтервала\n",
    "    def mid(i):\n",
    "        return 1/2*(i.start+i.end)\n",
    "    \n",
    "    #Обчислення радіуса інтервала\n",
    "    def rad(i):\n",
    "        return 1/2*(i.end-i.start)\n",
    "   \n",
    "    # обчислення ширини інтервалу\n",
    "    def d(self):\n",
    "        return self.end - self.start\n",
    "    \n",
    "    #Операції порівняння\n",
    "    def __eq__(self, other):\n",
    "        if isinstance(other, (int, float)):\n",
    "            if self.start == other and self.end == other:\n",
    "                return True\n",
    "            if other in self:\n",
    "                return None\n",
    "            else:\n",
    "                return False\n",
    "\n",
    "        if isinstance(other, Interval):\n",
    "            if self.start == other.start and self.end == other.end:\n",
    "                return True\n",
    "            else:\n",
    "                return False\n",
    "        else:\n",
    "            return NotImplemented\n",
    "\n",
    "    def __ne__(self, other):\n",
    "        if isinstance(other, (int, float)):\n",
    "            if self.start == other and self.end == other:\n",
    "                return False\n",
    "            else:\n",
    "                return True\n",
    "\n",
    "        if isinstance(other, Interval):\n",
    "            if self.start == other.start and self.end == other.end:\n",
    "                return False\n",
    "            else:\n",
    "                return True\n",
    "    \n",
    "    \n",
    "    def __contains__(self, other):\n",
    "        if isinstance(other, (int, float)):\n",
    "            return self.start <= other and self.end >= other\n",
    "        else:\n",
    "            return self.start <= other.start and other.end <= self.end"
   ]
  },
  {
   "cell_type": "code",
   "execution_count": 2,
   "metadata": {
    "collapsed": false
   },
   "outputs": [],
   "source": [
    "import copy\n",
    "class Matrix():\n",
    "    def __init__(self,values):\n",
    "        self.nrows = len(values)\n",
    "        self.ncols = len(values[0])\n",
    "               \n",
    "        self.rows=values[:]\n",
    "              \n",
    "    \n",
    "    def __str__(self):\n",
    "        \n",
    "        s='\\n'.join(['  '.join([str(item) for item in row]) for row in self.rows])\n",
    "        return (s + '\\n')\n",
    "   \n",
    "    def __repr__(self):\n",
    "        s='\\n'.join(['  '.join([str(item) for item in row]) for row in self.rows])   \n",
    "        return (s + '\\n')\n",
    "\n",
    "\n",
    "    def __getitem__(self, idx):\n",
    "        return self.rows[idx]\n",
    "\n",
    "    \n",
    "    def getCol(self,idx):\n",
    "        if idx>self.ncols:\n",
    "              raise ValueError(\"Incorect Index\")\n",
    "        \n",
    "        ret = [[row[idx]] for row in self.rows]\n",
    "        return Matrix(ret)\n",
    "    \n",
    "\n",
    "    # повертає кількість рядків і стовпців матриці\n",
    "    def getRank(self):\n",
    "        return (self.nrows, self.ncols)\n",
    "\n",
    "    # додавання матриць\n",
    "    def __add__(self, mat):\n",
    "                \n",
    "        if self.getRank() != mat.getRank():\n",
    "            raise ValueError(\"Trying to add matrixes of varying rank!\")\n",
    "\n",
    "        ret=[]        \n",
    "        \n",
    "        for i in range(self.nrows):\n",
    "            row = [self.rows[i][j]+mat.rows[i][j] for j in range(mat.ncols)]\n",
    "            ret.append(row)\n",
    "\n",
    "        return Matrix(ret)\n",
    "    \n",
    "    # віднімання матриць\n",
    "    def __sub__(self, mat):\n",
    "                \n",
    "        if self.getRank() != mat.getRank():\n",
    "            raise ValueError(\"Trying to sub matrixes of varying rank!\")\n",
    "\n",
    "        ret=[]        \n",
    "        \n",
    "        for i in range(self.nrows):\n",
    "            row = [item[0]-item[1] for item in zip(self.rows[i], mat[i])]\n",
    "            ret.append(row)\n",
    "\n",
    "        return Matrix(ret)\n",
    "    \n",
    "    \n",
    "    #транспонування матриці. Не змінює поточну матрицю\n",
    "    def transpose(self):\n",
    "                \n",
    "        new_rows = [list(item) for item in zip(*self.rows)]\n",
    "        return Matrix(new_rows)\n",
    "   \n",
    "\n",
    "\n",
    "    #множення матриць\n",
    "    def __mul__(self, mat):\n",
    "        \n",
    "        mat_nrows, mat_ncols = mat.getRank()\n",
    "        \n",
    "        if (self.ncols != mat_nrows):\n",
    "            raise ValueError(\"Matrices cannot be multipled!\")\n",
    "        \n",
    "        #cтворюємо заповнену 0 матрицю \n",
    "        res_mat = Matrix([[0]*mat_ncols for x in range(self.nrows)])\n",
    "        \n",
    "        \n",
    "        #транспонуємо матрицю для зручності перемноження в циклі\n",
    "        mat_t=mat.transpose()\n",
    "        \n",
    "        for m in range(self.nrows):\n",
    "            for n in range(mat_ncols):\n",
    "                \n",
    "                #визначаємо чи множимо звичайні матриці чи інтервальні матриці?\n",
    "                if type(self.rows[m][self.ncols-1]) == type(Interval(0,1)):\n",
    "                    suma=Interval(0,0)\n",
    "                else:\n",
    "                    suma=0\n",
    "                                               \n",
    "                for i in range(self.ncols):\n",
    "                    suma=suma+mat_t[n][i]*self.rows[m][i]\n",
    "                res_mat[m][n] = suma\n",
    "        \n",
    "       \n",
    "        return res_mat\n",
    "     \n",
    "    #множення матриці на число\n",
    "    def mult(self,value):    \n",
    "        mat_nrows, mat_ncols = self.getRank() \n",
    "            \n",
    "        #cтворюємо заповнену 0 матрицю \n",
    "        res_mat = Matrix([[0]*mat_ncols for x in range(mat_nrows)])\n",
    "            \n",
    "        for m in range(mat_nrows):\n",
    "            for n in range(mat_ncols):\n",
    "                res_mat[m][n] = self.rows[m][n] * value\n",
    "             \n",
    "        return res_mat\n",
    "         \n",
    "    #множення рядка матриці на число\n",
    "    def row_mult(self,row,value):\n",
    "        new_rows=copy.deepcopy(self.rows)\n",
    "        new_rows[row] = [r * value for r in self[row]]\n",
    "        return Matrix(new_rows)\n",
    "        \n",
    "    #додавання до i-го рядка j-го рядка помноженого на value\n",
    "    def row_i_plus_j(self,i,j,value):\n",
    "        \n",
    "        new_rows=copy.deepcopy(self.rows)\n",
    "        \n",
    "        for k in range(self.ncols):\n",
    "            arg=new_rows[j][k]\n",
    "            arg2=new_rows[i][k]\n",
    "            if type(arg)==type(Interval(0,1)) or type(arg2)==type(Interval(0,1)) or type(value)==type(Interval(0,1)):\n",
    "                if  type(arg) != type(Interval(0,1)):\n",
    "                    arg=Interval(arg,arg)\n",
    "                if  type(arg2) != type(Interval(0,1)):\n",
    "                    arg2=Interval(arg2,arg2)\n",
    "                                   \n",
    "            new_rows[i][k]=arg2+arg * value\n",
    "        return Matrix(new_rows)\n",
    "        \n",
    "    \n",
    "    def row_i_minus_j(self,i,j,value):\n",
    "        \n",
    "        new_rows=copy.deepcopy(self.rows)\n",
    "        \n",
    "        for k in range(self.ncols):\n",
    "            arg=new_rows[j][k]\n",
    "            arg2=new_rows[i][k]\n",
    "            if type(arg)==type(Interval(0,1)) or type(arg2)==type(Interval(0,1)) or type(value)==type(Interval(0,1)):\n",
    "                if  type(arg) != type(Interval(0,1)):\n",
    "                    arg=Interval(arg,arg)\n",
    "                if  type(arg2) != type(Interval(0,1)):\n",
    "                    arg2=Interval(arg2,arg2)\n",
    "                                   \n",
    "            new_rows[i][k]=arg2-arg * value\n",
    "        return Matrix(new_rows)\n",
    "    \n",
    "    \n",
    "    #розширення на інтервал\n",
    "    def expand(self,value):\n",
    "        new_rows = copy.deepcopy(self.rows)\n",
    "        for i in range(self.nrows):\n",
    "            for j in range(self.ncols):\n",
    "                a=new_rows[i][j]\n",
    "                if a != 0:\n",
    "                    new_rows[i][j]=Interval(round(a-abs(a)*value,2), round(a+abs(a)*value,2))\n",
    "        return Matrix(new_rows)\n",
    "        \n",
    "    \n",
    "    \n",
    "    "
   ]
  },
  {
   "cell_type": "code",
   "execution_count": 3,
   "metadata": {
    "collapsed": false
   },
   "outputs": [],
   "source": [
    "#Одинична матриця, параметер - розмір матриці\n",
    "class Diag(Matrix):\n",
    "     def __init__(self,size):\n",
    "            rows_temp=[[0]*size for _dummy in range(size)]\n",
    "            for i in range(size):\n",
    "                rows_temp[i][i]=1\n",
    "            Matrix.__init__(Diag,rows_temp)\n",
    "       "
   ]
  },
  {
   "cell_type": "code",
   "execution_count": 4,
   "metadata": {
    "collapsed": false
   },
   "outputs": [],
   "source": [
    "def Gaus2(A):\n",
    "    M=copy.deepcopy(A)\n",
    "    nrows,ncols=M.getRank()\n",
    "    x=[0]*(ncols-1)\n",
    "    for R in range(nrows-1):\n",
    "        for r in range(R+1,nrows):\n",
    "            l=M[r][R]/M[R][R]\n",
    "            for i in range(R, ncols):\n",
    "                M[r][i]=M[r][i] - l*M[R][i]\n",
    "            \n",
    "            print(\"Stage: \" + str(R+r))\n",
    "            #print('R: %s r: %s' % (R,r))\n",
    "            print(M)\n",
    "            \n",
    "      \n",
    "    x[ncols-2]=M[nrows-1][ncols-1]/M[nrows-1][ncols-2]\n",
    "    for n in reversed(range(0,nrows-1)):\n",
    "        sum1=0\n",
    "        for j in range(n+1,ncols-1):\n",
    "            sum1 = sum1 +x[j] * M[n][j]\n",
    "        \n",
    "        x[n]=(M[n][ncols-1]-sum1)/M[n][n]\n",
    "        \n",
    "    \n",
    "            \n",
    "    return(Matrix([[xi] for xi in x]))"
   ]
  },
  {
   "cell_type": "markdown",
   "metadata": {},
   "source": [
    "## Розв’язати ІСЛАР методом Гауса:##\n",
    "\n",
    "x1 - 8.9x2 + x3 = 7.5<br>\n",
    "-1.4x + x2 + 5.7x = 3.9<br>\n",
    "0.9x - 2.4x2 + x3 = 2<br>\n",
    "\n",
    "+- 3%\n",
    "\n"
   ]
  },
  {
   "cell_type": "markdown",
   "metadata": {},
   "source": [
    "### Для початку протестуємо алгоритм на системі звичайних нелінійних рівнянь: ###"
   ]
  },
  {
   "cell_type": "code",
   "execution_count": 5,
   "metadata": {
    "collapsed": false
   },
   "outputs": [
    {
     "name": "stdout",
     "output_type": "stream",
     "text": [
      "1  -8.9  1  7.5\n",
      "-1.4  1  5.7  3.9\n",
      "0.9  -2.4  1  2\n",
      "\n"
     ]
    }
   ],
   "source": [
    "A=Matrix([[1, -8.9, 1, 7.5],[-1.4, 1, 5.7, 3.9],[0.9, -2.4, 1,2]])\n",
    "print(A)\n"
   ]
  },
  {
   "cell_type": "code",
   "execution_count": 6,
   "metadata": {
    "collapsed": false
   },
   "outputs": [
    {
     "name": "stdout",
     "output_type": "stream",
     "text": [
      "Stage: 1\n",
      "1  -8.9  1  7.5\n",
      "0.0  -11.459999999999999  7.1  14.4\n",
      "0.9  -2.4  1  2\n",
      "\n",
      "Stage: 2\n",
      "1  -8.9  1  7.5\n",
      "0.0  -11.459999999999999  7.1  14.4\n",
      "0.0  5.609999999999999  0.09999999999999998  -4.75\n",
      "\n",
      "Stage: 3\n",
      "1  -8.9  1  7.5\n",
      "0.0  -11.459999999999999  7.1  14.4\n",
      "0.0  0.0  3.57565445026178  2.2992146596858642\n",
      "\n"
     ]
    }
   ],
   "source": [
    "x=Gaus2(A)"
   ]
  },
  {
   "cell_type": "code",
   "execution_count": 7,
   "metadata": {
    "collapsed": false
   },
   "outputs": [
    {
     "name": "stdout",
     "output_type": "stream",
     "text": [
      "Results:\n",
      "-0.7806818459135627\n",
      "-0.858164336090978\n",
      "0.6430192547038583\n",
      "\n"
     ]
    }
   ],
   "source": [
    "print(\"Results:\")\n",
    "print(x)"
   ]
  },
  {
   "cell_type": "code",
   "execution_count": 8,
   "metadata": {
    "collapsed": false
   },
   "outputs": [
    {
     "name": "stdout",
     "output_type": "stream",
     "text": [
      "7.5\n",
      "3.900000000000002\n",
      "1.9999999999999991\n",
      "\n"
     ]
    }
   ],
   "source": [
    "#Перевіриво перемноживши матрицю на вектор результатів x:\n",
    "AR=Matrix([[1, -8.9, 1],[-1.4, 1, 5.7],[0.9, -2.4, 1]])\n",
    "print(AR*x)"
   ]
  },
  {
   "cell_type": "markdown",
   "metadata": {},
   "source": [
    "**Отже, бачимо що рішення вірне **"
   ]
  },
  {
   "cell_type": "markdown",
   "metadata": {},
   "source": [
    "### Перетворимо вихідну матрицю на інтервальну: ### "
   ]
  },
  {
   "cell_type": "code",
   "execution_count": 9,
   "metadata": {
    "collapsed": false,
    "scrolled": true
   },
   "outputs": [
    {
     "name": "stdout",
     "output_type": "stream",
     "text": [
      "Вихідна матриця:\n",
      "1  -8.9  1  7.5\n",
      "-1.4  1  5.7  3.9\n",
      "0.9  -2.4  1  2\n",
      "\n",
      "Інтервальна матриця:\n",
      "[0.970000, 1.030000]  [-9.170000, -8.630000]  [0.970000, 1.030000]  [7.280000, 7.720000]\n",
      "[-1.440000, -1.360000]  [0.970000, 1.030000]  [5.530000, 5.870000]  [3.780000, 4.020000]\n",
      "[0.870000, 0.930000]  [-2.470000, -2.330000]  [0.970000, 1.030000]  [1.940000, 2.060000]\n",
      "\n"
     ]
    }
   ],
   "source": [
    "#Вихідна матриця:\n",
    "A=Matrix([[1, -8.9, 1, 7.5],[-1.4, 1, 5.7, 3.9],[0.9, -2.4, 1,2]])\n",
    "print(\"Вихідна матриця:\")\n",
    "print(A)\n",
    "B=A.expand(0.03)\n",
    "print(\"Інтервальна матриця:\")\n",
    "print(B)"
   ]
  },
  {
   "cell_type": "code",
   "execution_count": 10,
   "metadata": {
    "collapsed": false
   },
   "outputs": [
    {
     "name": "stdout",
     "output_type": "stream",
     "text": [
      "Stage: 1\n",
      "[0.970000, 1.030000]  [-9.170000, -8.630000]  [0.970000, 1.030000]  [7.280000, 7.720000]\n",
      "[-0.159223, 0.169072]  [-12.643196, -10.364951]  [6.810777, 7.399072]  [13.392427, 15.480619]\n",
      "[0.870000, 0.930000]  [-2.470000, -2.330000]  [0.970000, 1.030000]  [1.940000, 2.060000]\n",
      "\n",
      "Stage: 2\n",
      "[0.970000, 1.030000]  [-9.170000, -8.630000]  [0.970000, 1.030000]  [7.280000, 7.720000]\n",
      "[-0.159223, 0.169072]  [-12.643196, -10.364951]  [6.810777, 7.399072]  [13.392427, 15.480619]\n",
      "[-0.117526, 0.110680]  [4.819417, 6.461856]  [-0.017526, 0.210680]  [-5.461649, -4.089126]\n",
      "\n",
      "Stage: 3\n",
      "[0.970000, 1.030000]  [-9.170000, -8.630000]  [0.970000, 1.030000]  [7.280000, 7.720000]\n",
      "[-0.159223, 0.169072]  [-12.643196, -10.364951]  [6.810777, 7.399072]  [13.392427, 15.480619]\n",
      "[-0.117526, 0.110680]  [-3.062772, 2.510875]  [2.578651, 4.823507]  [-0.356635, 5.562007]\n",
      "\n"
     ]
    }
   ],
   "source": [
    "x=Gaus2(B)"
   ]
  },
  {
   "cell_type": "code",
   "execution_count": 11,
   "metadata": {
    "collapsed": false
   },
   "outputs": [
    {
     "name": "stdout",
     "output_type": "stream",
     "text": [
      "Results:\n",
      "[-9.838025, 10.446877]\n",
      "[-1.592283, 0.247657]\n",
      "[-0.138303, 2.156944]\n",
      "\n"
     ]
    }
   ],
   "source": [
    "print(\"Results:\")\n",
    "print(x)"
   ]
  },
  {
   "cell_type": "markdown",
   "metadata": {},
   "source": [
    "### Перевірка методу на відомих даних ###\n",
    "* Приклад взятий з \"С.П. Шарый. КОНЕЧНОМЕРНЫЙ ИНТЕРВАЛЬНЫЙ АНАЛИЗ., 2016 \" стор.333\n"
   ]
  },
  {
   "cell_type": "code",
   "execution_count": 12,
   "metadata": {
    "collapsed": false
   },
   "outputs": [
    {
     "name": "stdout",
     "output_type": "stream",
     "text": [
      "3.33  [0.000000, 2.000000]  [0.000000, 2.000000]  [-1.000000, 2.000000]\n",
      "[0.000000, 2.000000]  3.33  [0.000000, 2.000000]  [-1.000000, 2.000000]\n",
      "[0.000000, 2.000000]  [0.000000, 2.000000]  3.33  [-1.000000, 2.000000]\n",
      "\n",
      "Stage: 1\n",
      "3.33  [0.000000, 2.000000]  [0.000000, 2.000000]  [-1.000000, 2.000000]\n",
      "[-2.000000, 2.000000]  [2.128799, 3.330000]  [-1.201201, 2.000000]  [-2.201201, 2.600601]\n",
      "[0.000000, 2.000000]  [0.000000, 2.000000]  3.33  [-1.000000, 2.000000]\n",
      "\n",
      "Stage: 2\n",
      "3.33  [0.000000, 2.000000]  [0.000000, 2.000000]  [-1.000000, 2.000000]\n",
      "[-2.000000, 2.000000]  [2.128799, 3.330000]  [-1.201201, 2.000000]  [-2.201201, 2.600601]\n",
      "[-2.000000, 2.000000]  [-1.201201, 2.000000]  [2.128799, 3.330000]  [-2.201201, 2.600601]\n",
      "\n",
      "Stage: 3\n",
      "3.33  [0.000000, 2.000000]  [0.000000, 2.000000]  [-1.000000, 2.000000]\n",
      "[-2.000000, 2.000000]  [2.128799, 3.330000]  [-1.201201, 2.000000]  [-2.201201, 2.600601]\n",
      "[-2.000000, 2.000000]  [-4.329726, 3.878994]  [0.249805, 4.458525]  [-4.644458, 4.668622]\n",
      "\n",
      "[-22.749641, 22.933743]\n",
      "[-18.592341, 18.689076]\n",
      "[-18.592341, 18.689076]\n",
      "\n"
     ]
    }
   ],
   "source": [
    "\n",
    "A=Matrix([[3.33,Interval(0,2),Interval(0,2),Interval(-1,2)],\n",
    "          [Interval(0,2),3.33,Interval(0,2),Interval(-1,2)],\n",
    "          [Interval(0,2),Interval(0,2),3.33,Interval(-1,2)]])\n",
    "print(A)\n",
    "print(Gaus2(A))"
   ]
  },
  {
   "cell_type": "markdown",
   "metadata": {},
   "source": [
    "#### результити рішення співпадають. ####"
   ]
  },
  {
   "cell_type": "markdown",
   "metadata": {},
   "source": [
    "## Розв'язок методом LU розкладу\n",
    "#### Опишемо функцію LU розкладу: ####"
   ]
  },
  {
   "cell_type": "code",
   "execution_count": 13,
   "metadata": {
    "collapsed": false
   },
   "outputs": [],
   "source": [
    "def LU(A):\n",
    "    nrows,ncols=A.getRank()\n",
    "    n=ncols\n",
    "    L=[[0]*n for _dummy in range(n)]\n",
    "    U=[[0]*n for _dummy in range(n)]\n",
    "    \n",
    "    \n",
    "    for i in range(n):\n",
    "        for j in range(n):\n",
    "            U[0][i]=A[0][i]\n",
    "            L[i][0]=A[i][0]/U[0][0]\n",
    "            \n",
    "            sum1 = 0\n",
    "            for k in range(i):\n",
    "                sum1 = sum1 + L[i][k]*U[k][j]\n",
    "            \n",
    "            U[i][j] = A[i][j] - sum1\n",
    "                       \n",
    "            if i > j:\n",
    "                L[j][i]=0\n",
    "            else:\n",
    "                sum1 = 0\n",
    "                for k in range(i):\n",
    "                    sum1 = sum1 + L[j][k] * U[k][i]\n",
    "                  \n",
    "                L[j][i]=(A[j][i]- sum1) / U[i][i]\n",
    "                   \n",
    "      \n",
    "    return (Matrix(L),Matrix(U))\n",
    "\n",
    "\n",
    "    \n",
    "    "
   ]
  },
  {
   "cell_type": "markdown",
   "metadata": {},
   "source": [
    "#### функція знаходження x з LU матриць: ####"
   ]
  },
  {
   "cell_type": "code",
   "execution_count": 14,
   "metadata": {
    "collapsed": false
   },
   "outputs": [],
   "source": [
    "def linear(L,U,b):\n",
    "    nrows,ncols=L.getRank()\n",
    "    n=ncols\n",
    "    y=[0 * n for _dummy in range(n)]\n",
    "    x=[0 * n for _dummy in range(n)]\n",
    "    \n",
    "    y[0]=b[0]/L[0][0]\n",
    "    \n",
    "    for i in range(1,n):\n",
    "        sum1=0\n",
    "            \n",
    "        for j in range(0,i):\n",
    "            sum1 = sum1 + y[j] * L[i][j]\n",
    "        \n",
    "        y[i]=(b[i]-sum1)/L[i][i]\n",
    "        \n",
    "    #відладочна інформація:\n",
    "    \n",
    "        #print(\"y:\")\n",
    "        #print(Matrix([y]))\n",
    "  \n",
    "        #print(\"L*y:\")\n",
    "        #print(L*Matrix([[y[0]],[y[1]]]))\n",
    "    \n",
    "    x[n-1]=y[n-1]\n",
    "    \n",
    "    for i in reversed(range(0,n)):\n",
    "        sum1=0\n",
    "        \n",
    "        for j in range(i+1,n):\n",
    "            sum1 = sum1 + U[i][j] * x[j]\n",
    "                    \n",
    "        \n",
    "        x[i]=(y[i]-sum1)/U[i][i]\n",
    "    \n",
    "    #відладочна інформація:\n",
    "    \n",
    "        #print(\"x:\")\n",
    "        #print(Matrix([x]))\n",
    "  \n",
    "        #print(\"U*X:\")\n",
    "        #print(U*Matrix([[x[0]],[x[1]]]))\n",
    "    \n",
    "    return Matrix([[k] for k in x])"
   ]
  },
  {
   "cell_type": "markdown",
   "metadata": {},
   "source": [
    "** Перевірка роботи на точкових даних: **"
   ]
  },
  {
   "cell_type": "code",
   "execution_count": 15,
   "metadata": {
    "collapsed": false
   },
   "outputs": [
    {
     "name": "stdout",
     "output_type": "stream",
     "text": [
      "1  -8.9  1\n",
      "-1.4  1  5.7\n",
      "0.9  -2.4  1\n",
      "\n",
      "L:\n",
      " 1.0  0  0\n",
      "-1.4  1.0  0\n",
      "0.9  -0.4895287958115183  1.0\n",
      "\n",
      "U:\n",
      " 1  -8.9  1\n",
      "0.0  -11.459999999999999  7.1\n",
      "0.0  4.440892098500626e-16  3.57565445026178\n",
      "\n",
      "L*U\n",
      " 1.0  -8.9  1.0\n",
      "-1.4  1.0  5.699999999999999\n",
      "0.9  -2.4  1.0\n",
      "\n"
     ]
    }
   ],
   "source": [
    "A = Matrix([[1, -8.9, 1],[-1.4, 1, 5.7],[0.9, -2.4, 1]])\n",
    "print(A)\n",
    "L,U=LU(A)\n",
    "print(\"L:\\n\",L)\n",
    "print(\"U:\\n\",U)\n",
    "print(\"L*U\\n\",L*U)\n"
   ]
  },
  {
   "cell_type": "code",
   "execution_count": 16,
   "metadata": {
    "collapsed": false
   },
   "outputs": [
    {
     "name": "stdout",
     "output_type": "stream",
     "text": [
      "Results:\n",
      "-0.7806818459135627\n",
      "-0.858164336090978\n",
      "0.6430192547038583\n",
      "\n"
     ]
    }
   ],
   "source": [
    "b=[7.5,3.9,2]\n",
    "x=linear(L,U,b)\n",
    "print(\"Results:\")\n",
    "print(x)"
   ]
  },
  {
   "cell_type": "markdown",
   "metadata": {},
   "source": [
    "#### Як бачимо результати співпадають з отриманими методом Гауса ####"
   ]
  },
  {
   "cell_type": "markdown",
   "metadata": {},
   "source": [
    "## Знаходимо LU матриці та розв'язок ІСЛАР для ситеми з ЛР: ##"
   ]
  },
  {
   "cell_type": "code",
   "execution_count": 19,
   "metadata": {
    "collapsed": false
   },
   "outputs": [],
   "source": [
    "A=Matrix([[Interval(0.97,1.03), Interval(-9.17,-8.63), Interval(0.97,1.03)],\n",
    "          [Interval(-1.44,-1.36), Interval(0.97,1.03),Interval(5.53,5.87)],\n",
    "          [Interval(0.87,0.93),Interval(-2.47,-2.33), Interval(0.97,1.03)]])\n",
    "           \n",
    "           \n",
    "b=[Interval(7.28,7.72),Interval(3.78,4.02),Interval(1.94,2.06)]\n",
    "    \n",
    "L,U=LU(A)\n"
   ]
  },
  {
   "cell_type": "code",
   "execution_count": 21,
   "metadata": {
    "collapsed": false
   },
   "outputs": [
    {
     "name": "stdout",
     "output_type": "stream",
     "text": [
      "Results:\n",
      "[-26.900105, 42.332070]\n",
      "[-2.893990, 3.428352]\n",
      "[-1.385044, 6.224406]\n",
      "\n"
     ]
    }
   ],
   "source": [
    "x=linear(L,U,b)\n",
    "print(\"Results:\")\n",
    "print(x)\n"
   ]
  }
 ],
 "metadata": {
  "kernelspec": {
   "display_name": "Python 3",
   "language": "python",
   "name": "python3"
  },
  "language_info": {
   "codemirror_mode": {
    "name": "ipython",
    "version": 3
   },
   "file_extension": ".py",
   "mimetype": "text/x-python",
   "name": "python",
   "nbconvert_exporter": "python",
   "pygments_lexer": "ipython3",
   "version": "3.5.1"
  }
 },
 "nbformat": 4,
 "nbformat_minor": 0
}
